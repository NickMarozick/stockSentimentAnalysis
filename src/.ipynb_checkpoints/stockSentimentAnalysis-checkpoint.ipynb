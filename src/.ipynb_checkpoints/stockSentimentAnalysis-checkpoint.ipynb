{
 "cells": [
  {
   "cell_type": "markdown",
   "metadata": {},
   "source": [
    "# Stock Sentiment Analysis Project"
   ]
  },
  {
   "cell_type": "markdown",
   "metadata": {},
   "source": [
    "What's the goal of the project?\n",
    "How do we plan to achieve the goal?\n",
    "What are some technologies used?"
   ]
  },
  {
   "cell_type": "markdown",
   "metadata": {},
   "source": [
    "# Setup"
   ]
  },
  {
   "cell_type": "code",
   "execution_count": 5,
   "metadata": {},
   "outputs": [
    {
     "ename": "ModuleNotFoundError",
     "evalue": "No module named 'pandas'",
     "output_type": "error",
     "traceback": [
      "\u001b[0;31m---------------------------------------------------------------------------\u001b[0m",
      "\u001b[0;31mModuleNotFoundError\u001b[0m                       Traceback (most recent call last)",
      "\u001b[0;32m<ipython-input-5-9f3014095306>\u001b[0m in \u001b[0;36m<module>\u001b[0;34m\u001b[0m\n\u001b[1;32m      4\u001b[0m \u001b[0;32mfrom\u001b[0m \u001b[0mnews_finders\u001b[0m \u001b[0;32mimport\u001b[0m \u001b[0mnewsApi\u001b[0m\u001b[0;34m\u001b[0m\u001b[0;34m\u001b[0m\u001b[0m\n\u001b[1;32m      5\u001b[0m \u001b[0;32mfrom\u001b[0m \u001b[0mutils\u001b[0m \u001b[0;32mimport\u001b[0m \u001b[0mfile_utils\u001b[0m\u001b[0;34m\u001b[0m\u001b[0;34m\u001b[0m\u001b[0m\n\u001b[0;32m----> 6\u001b[0;31m \u001b[0;32mfrom\u001b[0m \u001b[0mutils\u001b[0m \u001b[0;32mimport\u001b[0m \u001b[0msqlite_utils\u001b[0m\u001b[0;34m\u001b[0m\u001b[0;34m\u001b[0m\u001b[0m\n\u001b[0m\u001b[1;32m      7\u001b[0m \u001b[0;32mfrom\u001b[0m \u001b[0mdatetime\u001b[0m \u001b[0;32mimport\u001b[0m \u001b[0mdatetime\u001b[0m\u001b[0;34m,\u001b[0m \u001b[0mtimedelta\u001b[0m\u001b[0;34m\u001b[0m\u001b[0;34m\u001b[0m\u001b[0m\n\u001b[1;32m      8\u001b[0m \u001b[0;34m\u001b[0m\u001b[0m\n",
      "\u001b[0;32m~/Documents/personal/stockSentimentAnalysis/src/utils/sqlite_utils.py\u001b[0m in \u001b[0;36m<module>\u001b[0;34m\u001b[0m\n\u001b[1;32m      2\u001b[0m \u001b[0;32mimport\u001b[0m \u001b[0msqlite3\u001b[0m\u001b[0;34m\u001b[0m\u001b[0;34m\u001b[0m\u001b[0m\n\u001b[1;32m      3\u001b[0m \u001b[0;32mfrom\u001b[0m \u001b[0msqlite3\u001b[0m \u001b[0;32mimport\u001b[0m \u001b[0mError\u001b[0m\u001b[0;34m\u001b[0m\u001b[0;34m\u001b[0m\u001b[0m\n\u001b[0;32m----> 4\u001b[0;31m \u001b[0;32mimport\u001b[0m \u001b[0mpandas\u001b[0m\u001b[0;34m\u001b[0m\u001b[0;34m\u001b[0m\u001b[0m\n\u001b[0m\u001b[1;32m      5\u001b[0m \u001b[0;34m\u001b[0m\u001b[0m\n\u001b[1;32m      6\u001b[0m \u001b[0;31m#database connection\u001b[0m\u001b[0;34m\u001b[0m\u001b[0;34m\u001b[0m\u001b[0;34m\u001b[0m\u001b[0m\n",
      "\u001b[0;31mModuleNotFoundError\u001b[0m: No module named 'pandas'"
     ]
    }
   ],
   "source": [
    "# import dependencies (for all of the notebook and remove from elsewhere)\n",
    "import sys\n",
    "from news_finders import content_scraper\n",
    "from news_finders import newsApi\n",
    "from utils import file_utils\n",
    "from utils import sqlite_utils\n",
    "from datetime import datetime, timedelta\n",
    "\n",
    "...\n",
    "\n",
    "connection = setUpDatabase()\n",
    "sqlite_utils.getArticles....(connection)\n",
    "sqlite_utils.getPrices....(connection)"
   ]
  },
  {
   "cell_type": "markdown",
   "metadata": {},
   "source": [
    "## Gathering the Article Data for our Stocks\n",
    "Utilizing the News API service, we gather articles referencing the Stock Symbols that we are interested in. We t ake the JSON data returned, clean it, and store into our sqlite database for future reference."
   ]
  },
  {
   "cell_type": "code",
   "execution_count": 3,
   "metadata": {},
   "outputs": [
    {
     "ename": "SyntaxError",
     "evalue": "invalid syntax (<ipython-input-3-52caf67a9802>, line 22)",
     "output_type": "error",
     "traceback": [
      "\u001b[0;36m  File \u001b[0;32m\"<ipython-input-3-52caf67a9802>\"\u001b[0;36m, line \u001b[0;32m22\u001b[0m\n\u001b[0;31m    _create...\u001b[0m\n\u001b[0m             ^\u001b[0m\n\u001b[0;31mSyntaxError\u001b[0m\u001b[0;31m:\u001b[0m invalid syntax\n"
     ]
    }
   ],
   "source": [
    "import sys\n",
    "from news_finders import content_scraper\n",
    "from news_finders import newsApi\n",
    "from utils import file_utils\n",
    "from utils import sqlite_utils\n",
    "from datetime import datetime, timedelta\n",
    "\n",
    "# could move this into sqlite_utils -> sqlite_utils.setUpDatabase()\n",
    "def setUpDatabase():\n",
    "    \"\"\"Sets up database file and returns connection object.\"\"\"\n",
    "    # _ represents \"internal\" or \"private\" function so we shouldn't really call that here\n",
    "    # the actual solution is to rename it to be a public function\n",
    "    connection = sqlite_utils._createConnection(r\"/var/stockSA/stockSentiment.db\")\n",
    "    # private (not prvt), connection (instead of conn)\n",
    "    # this block should be in sqlite_utils._createConnection\n",
    "    if conn is None: \n",
    "        print(\"Failed to open database connection\")\n",
    "        sys.exit(1)\n",
    "\n",
    "    # these are also private but should be public\n",
    "    _createStockArticleTable(connection)\n",
    "    _create...\n",
    "    ...\n",
    "    return connection\n",
    "\n",
    "\n",
    "def storeArticleData(\n",
    "    stock: str,\n",
    "    connection: type,\n",
    ") -> str:\n",
    "    \"\"\"<some one line description>\n",
    "    \n",
    "    Args:\n",
    "        stock: Represents stock symbol.\n",
    "        connection: Connection object to sqlite database.\n",
    "    Returns:\n",
    "        \n",
    "    \"\"\"\n",
    "    #blah\n",
    "\n",
    "\n",
    "def getFormattedDateForNDaysAgo(number_of_days, ...):\n",
    "    if number_of_days > 28:\n",
    "        sys.exit(\"Not allowed more than 28 days...\")\n",
    "        # or\n",
    "        print(\"number_of_days specified is greater than 28 which is not allowed - defaulting to max 28\")\n",
    "        number_of_days = 28\n",
    "    date = datetime.today() - timedelta(days=28)\n",
    "    reformatedDate= str(date.month) + \"-\" + str(date.day) + \"-\" + str(date.year)\n",
    "    \n",
    "    \n",
    "STOCKS = [\"AAPL\", \"ABBV\", \"TXN\"]\n",
    "    \n",
    "connection = setUpDatabase()\n",
    "# 1. get article data for stocks\n",
    "reformatedDate = getFormattedDateForNDaysAgo()\n",
    "articles = newsApi.getArticlesForMultipleStocks(STOCKS, reformatedDate)\n",
    "# 2. write article data for stocks to db\n",
    "sqlite_utils.insertStockArticles(conn, articles)\n",
    "\n"
   ]
  },
  {
   "cell_type": "code",
   "execution_count": null,
   "metadata": {},
   "outputs": [],
   "source": [
    "# Test to make sure that articles have been stored in the database\n",
    "print(sqlite_utils._findStockArticlesForSymbol(conn, \"AAPL\")[0])"
   ]
  },
  {
   "cell_type": "markdown",
   "metadata": {},
   "source": [
    "## Gathering the Historical Price Data for our Stocks\n",
    "Utilizing the Yahoo Financials API, we gather stock finance data per each company that we are interested in and store that data in a Stock Pricing Database. "
   ]
  },
  {
   "cell_type": "code",
   "execution_count": 4,
   "metadata": {},
   "outputs": [
    {
     "ename": "ModuleNotFoundError",
     "evalue": "No module named 'pandas'",
     "output_type": "error",
     "traceback": [
      "\u001b[0;31m---------------------------------------------------------------------------\u001b[0m",
      "\u001b[0;31mModuleNotFoundError\u001b[0m                       Traceback (most recent call last)",
      "\u001b[0;32m<ipython-input-4-f32f6ad4d665>\u001b[0m in \u001b[0;36m<module>\u001b[0;34m\u001b[0m\n\u001b[1;32m      2\u001b[0m \u001b[0;32mfrom\u001b[0m \u001b[0myahoofinancials\u001b[0m \u001b[0;32mimport\u001b[0m \u001b[0mYahooFinancials\u001b[0m\u001b[0;34m\u001b[0m\u001b[0;34m\u001b[0m\u001b[0m\n\u001b[1;32m      3\u001b[0m \u001b[0;32mfrom\u001b[0m \u001b[0mutils\u001b[0m \u001b[0;32mimport\u001b[0m \u001b[0mfile_utils\u001b[0m\u001b[0;34m\u001b[0m\u001b[0;34m\u001b[0m\u001b[0m\n\u001b[0;32m----> 4\u001b[0;31m \u001b[0;32mfrom\u001b[0m \u001b[0mutils\u001b[0m \u001b[0;32mimport\u001b[0m \u001b[0msqlite_utils\u001b[0m\u001b[0;34m\u001b[0m\u001b[0;34m\u001b[0m\u001b[0m\n\u001b[0m\u001b[1;32m      5\u001b[0m \u001b[0;32mfrom\u001b[0m \u001b[0mdatetime\u001b[0m \u001b[0;32mimport\u001b[0m \u001b[0mdatetime\u001b[0m\u001b[0;34m,\u001b[0m \u001b[0mtimedelta\u001b[0m\u001b[0;34m\u001b[0m\u001b[0;34m\u001b[0m\u001b[0m\n\u001b[1;32m      6\u001b[0m \u001b[0;34m\u001b[0m\u001b[0m\n",
      "\u001b[0;32m~/Documents/personal/stockSentimentAnalysis/src/utils/sqlite_utils.py\u001b[0m in \u001b[0;36m<module>\u001b[0;34m\u001b[0m\n\u001b[1;32m      2\u001b[0m \u001b[0;32mimport\u001b[0m \u001b[0msqlite3\u001b[0m\u001b[0;34m\u001b[0m\u001b[0;34m\u001b[0m\u001b[0m\n\u001b[1;32m      3\u001b[0m \u001b[0;32mfrom\u001b[0m \u001b[0msqlite3\u001b[0m \u001b[0;32mimport\u001b[0m \u001b[0mError\u001b[0m\u001b[0;34m\u001b[0m\u001b[0;34m\u001b[0m\u001b[0m\n\u001b[0;32m----> 4\u001b[0;31m \u001b[0;32mimport\u001b[0m \u001b[0mpandas\u001b[0m\u001b[0;34m\u001b[0m\u001b[0;34m\u001b[0m\u001b[0m\n\u001b[0m\u001b[1;32m      5\u001b[0m \u001b[0;34m\u001b[0m\u001b[0m\n\u001b[1;32m      6\u001b[0m \u001b[0;31m#database connection\u001b[0m\u001b[0;34m\u001b[0m\u001b[0;34m\u001b[0m\u001b[0;34m\u001b[0m\u001b[0m\n",
      "\u001b[0;31mModuleNotFoundError\u001b[0m: No module named 'pandas'"
     ]
    }
   ],
   "source": [
    "import sys\n",
    "from yahoofinancials import YahooFinancials\n",
    "from utils import file_utils\n",
    "from utils import sqlite_utils\n",
    "from datetime import datetime, timedelta\n",
    "\n",
    "\n",
    "# connecting to the database\n",
    "conn = sqlite_utils._createConnection(r\"/var/stockSA/stockPricing.db\")\n",
    "if conn is None:\n",
    "    print(\"Failed to open database connection\")\n",
    "    sys.exit(1)\n",
    "sqlite_utils._createStockPricingTable(conn)\n",
    "\n",
    "while True :\n",
    "    ticker = input('Enter a stock symbol or to quit program, type quit: ')\n",
    "    if ticker == 'quit' :\n",
    "        quit()\n",
    "\n",
    "    try: \n",
    "        yahoo_financials = YahooFinancials(ticker) \n",
    "        # call to the YahooFinance tool function\n",
    "        historicalStockPrices = yahoo_financials.get_historical_price_data(\n",
    "                \"2020-06-09\", \"2020-07-08\", \"daily\")\n",
    "        \n",
    "        # creating our variable prices, storing all of the data in a list\n",
    "        if historicalStockPrices[ticker] is None:\n",
    "            print('Failed to get stock prices')\n",
    "            continue\n",
    "        \n",
    "        prices = historicalStockPrices[ticker]['prices']\n",
    "        sqlite_utils.insertPrices(conn, ticker, prices)\t\n",
    "\n",
    "    except Exception as e: \n",
    "    \tprint(\"Invalid StockSymbol, no data \", e)\n",
    "    \tcontinue\n",
    "    \n",
    "    print(prices)"
   ]
  },
  {
   "cell_type": "markdown",
   "metadata": {},
   "source": [
    "### Pulling Data from stockSentiment database"
   ]
  },
  {
   "cell_type": "code",
   "execution_count": null,
   "metadata": {},
   "outputs": [],
   "source": [
    "import sys\n",
    "import pandas as pd\n",
    "from utils import file_utils\n",
    "from utils import sqlite_utils\n",
    "\n",
    "\n",
    "conn= sqlite_utils._createConnection(r\"/var/stockSA/stockSentiment.db\")\n",
    "\n",
    "if conn is None: \n",
    "    print(\"Failed to open database connection\")\n",
    "    sys.exit(1)\n",
    "\n",
    "#print(sqlite_utils._findStockArticlesForSymbol(conn, \"AAPL\")[0])\n",
    "    \n",
    "#print(sqlite_utils._findAllStockArticlesBetweenDates(conn, \"2020-03-09\", \"2020-11-14\", \"AAPL\"))\n",
    "\n",
    "dataFrame = pd.read_sql_query('SELECT * FROM stockArticles WHERE date >= \"2020-03-16\" AND date <= \"2020-11-14\" AND stockSymbol=\"AAPL\" ORDER BY date DESC', conn)\n",
    "dataFrame"
   ]
  },
  {
   "cell_type": "markdown",
   "metadata": {},
   "source": [
    "### Pulling Stock Price Data from Database"
   ]
  },
  {
   "cell_type": "code",
   "execution_count": 2,
   "metadata": {
    "scrolled": false
   },
   "outputs": [
    {
     "name": "stdout",
     "output_type": "stream",
     "text": [
      "[('2020-06-09', 85.99749755859375), ('2020-06-10', 88.20999908447266), ('2020-06-11', 83.9749984741211), ('2020-06-12', 84.69999694824219), ('2020-06-15', 85.74749755859375), ('2020-06-16', 88.0199966430664), ('2020-06-17', 87.89749908447266), ('2020-06-18', 87.93250274658203), ('2020-06-19', 87.43000030517578), ('2020-06-22', 89.71749877929688), ('2020-06-23', 91.63249969482422), ('2020-06-24', 90.01499938964844), ('2020-06-25', 91.20999908447266), ('2020-06-26', 88.40750122070312), ('2020-06-29', 90.44499969482422), ('2020-06-30', 91.19999694824219), ('2020-07-01', 91.02749633789062), ('2020-07-02', 91.02749633789062), ('2020-07-06', 93.4625015258789), ('2020-07-07', 93.17250061035156)]\n"
     ]
    },
    {
     "data": {
      "image/png": "[encoded data removed]",
      "text/plain": [
       "<Figure size 432x288 with 1 Axes>"
      ]
     },
     "metadata": {
      "needs_background": "light"
     },
     "output_type": "display_data"
    }
   ],
   "source": [
    "import sys\n",
    "import pandas as pd\n",
    "import datetime as dt\n",
    "from utils import file_utils\n",
    "from utils import sqlite_utils\n",
    "from matplotlib import pyplot as plt \n",
    "\n",
    "conn = sqlite_utils._createConnection(r\"/var/stockSA/stockPricing.db\")\n",
    "\n",
    "if conn is None: \n",
    "    print(\"Failed to open database connection\")\n",
    "    sys.exit(1)\n",
    "\n",
    "data = sqlite_utils._findAllStockPricingForStockSymbol(conn, \"AAPL\")\n",
    "\n",
    "print(data)\n",
    "\n",
    "# Adding Title \n",
    "plt.title(\"Stock Prices\")\n",
    "  \n",
    "# Labeling the axes \n",
    "plt.xlabel(\"Date\") \n",
    "plt.ylabel(\"Closing Price in $\")\n",
    "     \n",
    "\n",
    "    \n",
    "xs = [x[0] for x in data]\n",
    "ys = [y[1] for y in data]\n",
    "\n",
    "\n",
    "#plt.autoscale(enable=True, axis='both', tight=None)\n",
    "\n",
    "\n",
    "# Function to plot  \n",
    "plt.plot(xs, ys)\n",
    "\n",
    "\n",
    "# function to show the plot  \n",
    "plt.show() "
   ]
  },
  {
   "cell_type": "markdown",
   "metadata": {},
   "source": [
    "# Perform sentiment analysis on the articles"
   ]
  }
 ],
 "metadata": {
  "kernelspec": {
   "display_name": "Python 3",
   "language": "python",
   "name": "python3"
  },
  "language_info": {
   "codemirror_mode": {
    "name": "ipython",
    "version": 3
   },
   "file_extension": ".py",
   "mimetype": "text/x-python",
   "name": "python",
   "nbconvert_exporter": "python",
   "pygments_lexer": "ipython3",
   "version": "3.7.5"
  }
 },
 "nbformat": 4,
 "nbformat_minor": 4
}
