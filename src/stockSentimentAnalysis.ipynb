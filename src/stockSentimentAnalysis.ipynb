{
 "cells": [
  {
   "cell_type": "markdown",
   "metadata": {},
   "source": [
    "# Stock Sentiment Analysis Project"
   ]
  },
  {
   "cell_type": "markdown",
   "metadata": {},
   "source": [
    "What's the goal of the project?\n",
    "How do we plan to achieve the goal?\n",
    "What are some technologies used?"
   ]
  },
  {
   "cell_type": "markdown",
   "metadata": {},
   "source": [
    "# Setup"
   ]
  },
  {
   "cell_type": "code",
   "execution_count": 1,
   "metadata": {},
   "outputs": [],
   "source": [
    "%matplotlib notebook\n",
    "\n",
    "# import dependencies (for all of the notebook and remove from elsewhere)\n",
    "import sys\n",
    "import pandas as pd\n",
    "from news_finders import content_scraper\n",
    "from news_finders import newsApi\n",
    "from yahoofinancials import YahooFinancials\n",
    "from utils import helper_functions\n",
    "from utils import sqlite_utils\n",
    "from datetime import datetime, timedelta\n",
    "from stock_historical_data import getStockData\n",
    "from scrapeTrendingStocks import y_scrape_utils\n",
    "from matplotlib import pyplot as plt \n",
    "\n",
    "\n",
    "connection_article_database = sqlite_utils.setUpArticleDatabase()\n",
    "\n",
    "connection_pricing_database = sqlite_utils.setUpPricingDatabase()\n",
    "\n",
    "connection_gainers_database = sqlite_utils.setUpGainersDatabase()\n",
    "\n",
    "connection_losers_database = sqlite_utils.setUpLosersDatabase()\n",
    "\n",
    "max_article_date = helper_functions.getMaxDateForStockArticles()"
   ]
  },
  {
   "cell_type": "markdown",
   "metadata": {},
   "source": [
    "## Gathering the Historical Price and Article Data for User Inputted Stock Tickers\n",
    "Utilizing the News API service, we gather articles referencing the Stock Symbols that we are interested in. We t ake the JSON data returned, clean it, and store into our sqlite database for future reference."
   ]
  },
  {
   "cell_type": "code",
   "execution_count": null,
   "metadata": {},
   "outputs": [],
   "source": [
    "#STOCKS = [\"WMT\", \"AMZN\", \"MRNA\"]\n",
    "STOCKS = helper_functions.getStockTickersFromUser()\n",
    "\n",
    "\n",
    "newsApi.getAndStoreArticlesForMultipleStocks(STOCKS, max_article_date, connection_article_database)\n",
    "\n",
    "\n",
    "getStockData.getAndStoreMultipleStocksPricingData(STOCKS, connection_pricing_database)"
   ]
  },
  {
   "cell_type": "code",
   "execution_count": null,
   "metadata": {},
   "outputs": [],
   "source": [
    "# Test to show the stock article and stock pricing database contents\n",
    "sqlite_utils.fetchStockDataOverview(connection_pricing_database, connection_article_database, STOCKS)"
   ]
  },
  {
   "cell_type": "markdown",
   "metadata": {},
   "source": [
    "### Pulling Stock Article and Sentiment Data from stockSentiment Database"
   ]
  },
  {
   "cell_type": "code",
   "execution_count": null,
   "metadata": {},
   "outputs": [],
   "source": [
    "dataFrame = pd.read_sql_query('SELECT * FROM stockArticles WHERE date >= \"2020-03-16\" AND date <= \"2020-11-14\" AND stockSymbol=\"AAPL\" ORDER BY date DESC', connection_article_database)\n",
    "\n",
    "dataFrame"
   ]
  },
  {
   "cell_type": "markdown",
   "metadata": {},
   "source": [
    "### Pulling Stock Price Data from stockPricing Database and Plotting the Data"
   ]
  },
  {
   "cell_type": "code",
   "execution_count": null,
   "metadata": {},
   "outputs": [],
   "source": [
    "data = sqlite_utils._findAllStockPricingForStockSymbol(connection_pricing_database, \"WMT\")\n",
    "\n",
    "# Adding Title \n",
    "plt.title(\"Stock Prices\")\n",
    "  \n",
    "# Labeling the axes \n",
    "plt.xlabel(\"Date\") \n",
    "plt.ylabel(\"Closing Price in $\")\n",
    "     \n",
    "    \n",
    "xs = [x[0] for x in data]\n",
    "ys = [y[1] for y in data]\n",
    "\n",
    "#print(\"xs: \", xs)\n",
    "#print(\"ys: \", ys)\n",
    "#plt.autoscale(enable=True, axis='both', tight=None)\n",
    "\n",
    "if x\n",
    "# Function to plot  \n",
    "plt.plot(xs, ys)\n",
    "\n",
    "# function to show the plot  \n",
    "plt.show()"
   ]
  },
  {
   "cell_type": "markdown",
   "metadata": {},
   "source": [
    "### Getting and Storing Top Gaining & Losing Stock on the Hour "
   ]
  },
  {
   "cell_type": "code",
   "execution_count": 2,
   "metadata": {},
   "outputs": [
    {
     "name": "stdout",
     "output_type": "stream",
     "text": [
      "[('AMWL', 1), ('APP', 1), ('BNR', 1), ('BRPHF', 1), ('CPNG', 1), ('CRCT', 1), ('DASH', 1), ('DDS', 1), ('EXPI', 1), ('FTCH', 1), ('FUTU', 1), ('ISUZY', 1), ('JMIA', 1), ('LTCN', 1), ('M', 1), ('MARA', 1), ('MVIS', 1), ('RRC', 1), ('SIM', 1), ('SNCAF', 1), ('TIGR', 1), ('UPST', 1), ('VVNT', 1), ('VYGVF', 1), ('WISH', 1)]\n"
     ]
    }
   ],
   "source": [
    "y_scrape_utils.getAndStoreTop25GainingStocks(connection_gainers_database)\n",
    "\n",
    "y_scrape_utils.getAndStoreTop25LosingStocks(connection_losers_database)\n",
    "\n",
    "gainers = pd.read_sql_query('SELECT * FROM stockGainers', connection_gainers_database)\n",
    "\n",
    "losers = pd.read_sql_query('SELECT * FROM stockLosers', connection_losers_database)\n",
    "                              \n",
    "gainers\n",
    "\n",
    "losers\n",
    "\n",
    "print(sqlite_utils.findMultipleStockGainers(connection_gainers_database))"
   ]
  },
  {
   "cell_type": "markdown",
   "metadata": {},
   "source": [
    "# Perform sentiment analysis on the articles"
   ]
  }
 ],
 "metadata": {
  "kernelspec": {
   "display_name": "Python 3",
   "language": "python",
   "name": "python3"
  },
  "language_info": {
   "codemirror_mode": {
    "name": "ipython",
    "version": 3
   },
   "file_extension": ".py",
   "mimetype": "text/x-python",
   "name": "python",
   "nbconvert_exporter": "python",
   "pygments_lexer": "ipython3",
   "version": "3.7.9"
  }
 },
 "nbformat": 4,
 "nbformat_minor": 4
}
