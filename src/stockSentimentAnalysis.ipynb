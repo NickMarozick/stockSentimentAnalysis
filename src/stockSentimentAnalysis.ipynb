{
 "cells": [
  {
   "cell_type": "markdown",
   "metadata": {},
   "source": [
    "# Stock Sentiment Analysis Project"
   ]
  },
  {
   "cell_type": "markdown",
   "metadata": {},
   "source": [
    "What's the goal of the project?\n",
    "How do we plan to achieve the goal?\n",
    "What are some technologies used?"
   ]
  },
  {
   "cell_type": "markdown",
   "metadata": {},
   "source": [
    "# Setup"
   ]
  },
  {
   "cell_type": "code",
   "execution_count": 1,
   "metadata": {},
   "outputs": [],
   "source": [
    "%matplotlib notebook\n",
    "\n",
    "# import dependencies (for all of the notebook and remove from elsewhere)\n",
    "import sys\n",
    "import pandas as pd\n",
    "from news_finders import content_scraper\n",
    "from news_finders import newsApi\n",
    "from yahoofinancials import YahooFinancials\n",
    "from utils import helper_functions\n",
    "from utils import sqlite_utils\n",
    "from datetime import datetime, timedelta\n",
    "from stock_historical_data import getStockData\n",
    "from matplotlib import pyplot as plt \n",
    "\n",
    "\n",
    "connection_article_database = sqlite_utils.setUpArticleDatabase()\n",
    "\n",
    "connection_pricing_database = sqlite_utils.setUpPricingDatabase()\n",
    "\n",
    "max_article_date = helper_functions.getMaxDateForStockArticles()"
   ]
  },
  {
   "cell_type": "markdown",
   "metadata": {},
   "source": [
    "## Gathering the Historical Price and Article Data for User Inputted Stock Tickers\n",
    "Utilizing the News API service, we gather articles referencing the Stock Symbols that we are interested in. We t ake the JSON data returned, clean it, and store into our sqlite database for future reference."
   ]
  },
  {
   "cell_type": "code",
   "execution_count": 3,
   "metadata": {},
   "outputs": [
    {
     "name": "stdout",
     "output_type": "stream",
     "text": [
      "Input individual stock ticker to analyze or multiple comma seperated stock tickers. If done, write 'done'\n",
      "ZIM\n",
      "Input individual stock ticker to analyze or multiple comma seperated stock tickers. If done, write 'done'\n",
      "done\n",
      "None\n",
      "Failed to create article UNIQUE constraint failed: stockArticles.stockSymbol, stockArticles.name Article(stockSymbol='ZIM', name=\"The 'Value' Strikes Back - Value Strategies' Performance Through COVID\", url='https://seekingalpha.com/article/4417747-value-strikes-back-value-strategies-performance-through-covid?source=feed', content='Photo by matejmo/iStock via Getty Images\\r\\nIncredibly, it’s been more than 1 year since COVID-19 started wreaking havoc on the world at large, and by extension the financial markets. While it has been… [+24242 chars]', description='We look at performance of the following strategies over the last year: Net-nets, Low EV/EBIT, the Magic Formula, and Crisis Value, among others.', scraper='NewsAPI', date='2021-04-06')\n",
      "Failed to create article UNIQUE constraint failed: stockArticles.stockSymbol, stockArticles.name Article(stockSymbol='ZIM', name='2021 Is The Year For Shipping: Q1 Update', url='https://seekingalpha.com/article/4417770-2021-is-year-for-shipping-q1-update-two-stock-picks?source=feed_tag_market_outlook', content='Photo by Tryaging/iStock via Getty Images\\r\\nThesis Review: 2021 is the Year for Shipping\\r\\n As noted in early-January, I believed 2021 macro dynamics were set to reward shipping investors and traders. … [+11523 chars]', description=\"Our two shipping-focused model portfolios at Value Investor's Edge have returned 68.5% and 36.9% YTD. Click here to know our 2 top picks from the sector.\", scraper='NewsAPI', date='2021-04-06')\n",
      "Failed to create article UNIQUE constraint failed: stockArticles.stockSymbol, stockArticles.name Article(stockSymbol='ZIM', name=\"The 'Value' Strikes Back - Value Strategies' Performance Through COVID\", url='https://seekingalpha.com/article/4417747-value-strikes-back-value-strategies-performance-through-covid?utm_source=feed_articles_all_most_popular&utm_medium=referral', content='Photo by matejmo/iStock via Getty Images\\r\\nIncredibly, it’s been more than 1 year since COVID-19 started wreaking havoc on the world at large, and by extension the financial markets. While it has been… [+24242 chars]', description='We look at performance of the following strategies over the last year: Net-nets, Low EV/EBIT, the Magic Formula, and Crisis Value, among others.', scraper='NewsAPI', date='2021-04-06')\n",
      "Failed to create article UNIQUE constraint failed: stockArticles.stockSymbol, stockArticles.name Article(stockSymbol='ZIM', name='Kenon Holdings Reports Full Year 2020 Results and Additional Updates', url='https://www.prnewswire.com/news-releases/kenon-holdings-reports-full-year-2020-results-and-additional-updates-301271392.html', content='SINGAPORE, April 19, 2021 /PRNewswire/ -- Kenon Holdings Ltd. (NYSE: KEN) (TASE: KEN) (\"Kenon\")\\xa0announces its results for 2020 and updates to its businesses.\\r\\nRecent Highlights \\r\\nQoros\\r\\n<ul><li>Kenon… [+21472 chars]', description='SINGAPORE, April 19, 2021 /PRNewswire/ -- Kenon Holdings Ltd. (NYSE: KEN) (TASE: KEN) (\"Kenon\") announces its results for 2020 and updates to its businesses. Recent Highlights Qoros Kenon\\'s subsidiary Quantum has entered into an agreement to sell all of its r…', scraper='NewsAPI', date='2021-04-19')\n"
     ]
    }
   ],
   "source": [
    "#STOCKS = [\"WMT\", \"AMZN\", \"MRNA\"]\n",
    "STOCKS = helper_functions.getStockTickersFromUser()\n",
    "\n",
    "\n",
    "newsApi.getAndStoreArticlesForMultipleStocks(STOCKS, max_article_date, connection_article_database)\n",
    "\n",
    "\n",
    "getStockData.getAndStoreMultipleStocksPricingData(STOCKS, connection_pricing_database)"
   ]
  },
  {
   "cell_type": "code",
   "execution_count": null,
   "metadata": {},
   "outputs": [],
   "source": [
    "# Test to show the stock article and stock pricing database contents\n",
    "sqlite_utils.fetchStockDataOverview(connection_pricing_database, connection_article_database, STOCKS)"
   ]
  },
  {
   "cell_type": "markdown",
   "metadata": {},
   "source": [
    "### Pulling Stock Article and Sentiment Data from stockSentiment Database"
   ]
  },
  {
   "cell_type": "code",
   "execution_count": null,
   "metadata": {},
   "outputs": [],
   "source": [
    "dataFrame = pd.read_sql_query('SELECT * FROM stockArticles WHERE date >= \"2020-03-16\" AND date <= \"2020-11-14\" AND stockSymbol=\"AAPL\" ORDER BY date DESC', connection_article_database)\n",
    "\n",
    "dataFrame"
   ]
  },
  {
   "cell_type": "markdown",
   "metadata": {},
   "source": [
    "### Pulling Stock Price Data from stockPricing Database and Plotting the Data"
   ]
  },
  {
   "cell_type": "code",
   "execution_count": null,
   "metadata": {},
   "outputs": [],
   "source": [
    "data = sqlite_utils._findAllStockPricingForStockSymbol(connection_pricing_database, \"WMT\")\n",
    "\n",
    "# Adding Title \n",
    "plt.title(\"Stock Prices\")\n",
    "  \n",
    "# Labeling the axes \n",
    "plt.xlabel(\"Date\") \n",
    "plt.ylabel(\"Closing Price in $\")\n",
    "     \n",
    "    \n",
    "xs = [x[0] for x in data]\n",
    "ys = [y[1] for y in data]\n",
    "\n",
    "#print(\"xs: \", xs)\n",
    "#print(\"ys: \", ys)\n",
    "#plt.autoscale(enable=True, axis='both', tight=None)\n",
    "\n",
    "if x\n",
    "# Function to plot  \n",
    "plt.plot(xs, ys)\n",
    "\n",
    "# function to show the plot  \n",
    "plt.show()"
   ]
  },
  {
   "cell_type": "markdown",
   "metadata": {},
   "source": [
    "# Perform sentiment analysis on the articles"
   ]
  }
 ],
 "metadata": {
  "kernelspec": {
   "display_name": "Python 3",
   "language": "python",
   "name": "python3"
  },
  "language_info": {
   "codemirror_mode": {
    "name": "ipython",
    "version": 3
   },
   "file_extension": ".py",
   "mimetype": "text/x-python",
   "name": "python",
   "nbconvert_exporter": "python",
   "pygments_lexer": "ipython3",
   "version": "3.7.9"
  }
 },
 "nbformat": 4,
 "nbformat_minor": 4
}
