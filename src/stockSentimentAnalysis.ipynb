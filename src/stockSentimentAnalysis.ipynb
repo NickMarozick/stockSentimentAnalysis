{
 "cells": [
  {
   "cell_type": "markdown",
   "metadata": {},
   "source": [
    "# Stock Sentiment Analysis Project"
   ]
  },
  {
   "cell_type": "markdown",
   "metadata": {},
   "source": [
    "What's the goal of the project?\n",
    "How do we plan to achieve the goal?\n",
    "What are some technologies used?"
   ]
  },
  {
   "cell_type": "markdown",
   "metadata": {},
   "source": [
    "# Setup"
   ]
  },
  {
   "cell_type": "code",
   "execution_count": 6,
   "metadata": {},
   "outputs": [],
   "source": [
    "%matplotlib notebook\n",
    "\n",
    "# import dependencies (for all of the notebook and remove from elsewhere)\n",
    "import sys\n",
    "import pandas as pd\n",
    "from news_finders import content_scraper\n",
    "from news_finders import newsApi\n",
    "from yahoofinancials import YahooFinancials\n",
    "from utils import helper_functions\n",
    "from utils import sqlite_utils\n",
    "from datetime import datetime, timedelta\n",
    "from stock_historical_data import getStockData\n",
    "from matplotlib import pyplot as plt \n",
    "\n",
    "\n",
    "connection_article_database = sqlite_utils.setUpArticleDatabase()\n",
    "\n",
    "connection_pricing_database = sqlite_utils.setUpPricingDatabase()\n",
    "\n",
    "max_article_date = helper_functions.getMaxDateForStockArticles()"
   ]
  },
  {
   "cell_type": "markdown",
   "metadata": {},
   "source": [
    "## Gathering the Article Data for our Stocks\n",
    "Utilizing the News API service, we gather articles referencing the Stock Symbols that we are interested in. We t ake the JSON data returned, clean it, and store into our sqlite database for future reference."
   ]
  },
  {
   "cell_type": "code",
   "execution_count": 7,
   "metadata": {},
   "outputs": [
    {
     "name": "stdout",
     "output_type": "stream",
     "text": [
      "Input individual stock ticker to analyze or multiple comma seperated stock tickers. If done, write 'done'\n",
      "PTON, CGC, done\n",
      "Failed to create price data UNIQUE constraint failed: stockPricing.stockSymbol, stockPricing.date {'date': 1591709400, 'high': 48.04999923706055, 'low': 45.11000061035156, 'open': 45.369998931884766, 'close': 47.63999938964844, 'volume': 7740200, 'adjclose': 47.63999938964844, 'formatted_date': '2020-06-09'}\n",
      "Failed to create price data UNIQUE constraint failed: stockPricing.stockSymbol, stockPricing.date {'date': 1591795800, 'high': 48.78200149536133, 'low': 46.529998779296875, 'open': 48.20000076293945, 'close': 47.11000061035156, 'volume': 5503400, 'adjclose': 47.11000061035156, 'formatted_date': '2020-06-10'}\n",
      "Failed to create price data UNIQUE constraint failed: stockPricing.stockSymbol, stockPricing.date {'date': 1591882200, 'high': 49.400001525878906, 'low': 45.5099983215332, 'open': 45.93000030517578, 'close': 45.97999954223633, 'volume': 8274300, 'adjclose': 45.97999954223633, 'formatted_date': '2020-06-11'}\n",
      "Failed to create price data UNIQUE constraint failed: stockPricing.stockSymbol, stockPricing.date {'date': 1591968600, 'high': 48.25, 'low': 45.63999938964844, 'open': 47.07500076293945, 'close': 47.099998474121094, 'volume': 5839000, 'adjclose': 47.099998474121094, 'formatted_date': '2020-06-12'}\n",
      "Failed to create price data UNIQUE constraint failed: stockPricing.stockSymbol, stockPricing.date {'date': 1592227800, 'high': 51.0, 'low': 47.08000183105469, 'open': 48.27000045776367, 'close': 49.939998626708984, 'volume': 11490900, 'adjclose': 49.939998626708984, 'formatted_date': '2020-06-15'}\n",
      "Failed to create price data UNIQUE constraint failed: stockPricing.stockSymbol, stockPricing.date {'date': 1592314200, 'high': 51.45000076293945, 'low': 47.040000915527344, 'open': 48.45000076293945, 'close': 49.90999984741211, 'volume': 10908200, 'adjclose': 49.90999984741211, 'formatted_date': '2020-06-16'}\n",
      "Failed to create price data UNIQUE constraint failed: stockPricing.stockSymbol, stockPricing.date {'date': 1592400600, 'high': 51.709999084472656, 'low': 48.72999954223633, 'open': 50.119998931884766, 'close': 49.16999816894531, 'volume': 9153300, 'adjclose': 49.16999816894531, 'formatted_date': '2020-06-17'}\n",
      "Failed to create price data UNIQUE constraint failed: stockPricing.stockSymbol, stockPricing.date {'date': 1592487000, 'high': 51.25, 'low': 49.25, 'open': 49.720001220703125, 'close': 51.08000183105469, 'volume': 8064400, 'adjclose': 51.08000183105469, 'formatted_date': '2020-06-18'}\n",
      "Failed to create price data UNIQUE constraint failed: stockPricing.stockSymbol, stockPricing.date {'date': 1592573400, 'high': 51.95000076293945, 'low': 50.38999938964844, 'open': 51.130001068115234, 'close': 50.88999938964844, 'volume': 9522200, 'adjclose': 50.88999938964844, 'formatted_date': '2020-06-19'}\n",
      "Failed to create price data UNIQUE constraint failed: stockPricing.stockSymbol, stockPricing.date {'date': 1592832600, 'high': 55.029998779296875, 'low': 51.650001525878906, 'open': 52.0, 'close': 53.029998779296875, 'volume': 13253300, 'adjclose': 53.029998779296875, 'formatted_date': '2020-06-22'}\n",
      "Failed to create price data UNIQUE constraint failed: stockPricing.stockSymbol, stockPricing.date {'date': 1592919000, 'high': 56.599998474121094, 'low': 53.720001220703125, 'open': 54.4900016784668, 'close': 54.880001068115234, 'volume': 12747300, 'adjclose': 54.880001068115234, 'formatted_date': '2020-06-23'}\n",
      "Failed to create price data UNIQUE constraint failed: stockPricing.stockSymbol, stockPricing.date {'date': 1593005400, 'high': 57.27000045776367, 'low': 52.41999816894531, 'open': 55.97999954223633, 'close': 55.54999923706055, 'volume': 14527100, 'adjclose': 55.54999923706055, 'formatted_date': '2020-06-24'}\n",
      "Failed to create price data UNIQUE constraint failed: stockPricing.stockSymbol, stockPricing.date {'date': 1593091800, 'high': 58.29999923706055, 'low': 55.0, 'open': 56.38999938964844, 'close': 58.060001373291016, 'volume': 10180700, 'adjclose': 58.060001373291016, 'formatted_date': '2020-06-25'}\n",
      "Failed to create price data UNIQUE constraint failed: stockPricing.stockSymbol, stockPricing.date {'date': 1593178200, 'high': 60.0, 'low': 56.39500045776367, 'open': 58.5, 'close': 58.43000030517578, 'volume': 15952500, 'adjclose': 58.43000030517578, 'formatted_date': '2020-06-26'}\n",
      "Failed to create price data UNIQUE constraint failed: stockPricing.stockSymbol, stockPricing.date {'date': 1593437400, 'high': 58.400001525878906, 'low': 55.68000030517578, 'open': 58.04999923706055, 'close': 57.209999084472656, 'volume': 6649500, 'adjclose': 57.209999084472656, 'formatted_date': '2020-06-29'}\n",
      "Failed to create price data UNIQUE constraint failed: stockPricing.stockSymbol, stockPricing.date {'date': 1593523800, 'high': 59.11000061035156, 'low': 56.18000030517578, 'open': 56.2400016784668, 'close': 57.77000045776367, 'volume': 6536600, 'adjclose': 57.77000045776367, 'formatted_date': '2020-06-30'}\n",
      "Failed to create price data UNIQUE constraint failed: stockPricing.stockSymbol, stockPricing.date {'date': 1593610200, 'high': 61.0, 'low': 56.91999816894531, 'open': 57.540000915527344, 'close': 60.25, 'volume': 8335000, 'adjclose': 60.25, 'formatted_date': '2020-07-01'}\n",
      "Failed to create price data UNIQUE constraint failed: stockPricing.stockSymbol, stockPricing.date {'date': 1593696600, 'high': 61.38999938964844, 'low': 58.90999984741211, 'open': 60.849998474121094, 'close': 59.15999984741211, 'volume': 5475500, 'adjclose': 59.15999984741211, 'formatted_date': '2020-07-02'}\n",
      "Failed to create price data UNIQUE constraint failed: stockPricing.stockSymbol, stockPricing.date {'date': 1594042200, 'high': 62.34000015258789, 'low': 59.2400016784668, 'open': 59.25, 'close': 60.47999954223633, 'volume': 5926700, 'adjclose': 60.47999954223633, 'formatted_date': '2020-07-06'}\n",
      "Failed to create price data UNIQUE constraint failed: stockPricing.stockSymbol, stockPricing.date {'date': 1594128600, 'high': 62.20000076293945, 'low': 59.70000076293945, 'open': 61.0, 'close': 60.81999969482422, 'volume': 6873800, 'adjclose': 60.81999969482422, 'formatted_date': '2020-07-07'}\n"
     ]
    }
   ],
   "source": [
    "#STOCKS = [\"WMT\", \"AMZN\", \"MRNA\"]\n",
    "STOCKS = helper_functions.getStockTickersFromUser()\n",
    "\n",
    "#articles = []\n",
    "\n",
    "#articles = newsApi.getArticlesForMultipleStocks(STOCKS, get_articles_from_this_date)\n",
    "\n",
    "#sqlite_utils.insertStockArticles(connection_article_database, articles)\n",
    "\n",
    "\n",
    "newsApi.getAndStoreArticlesForMultipleStocks(STOCKS, max_article_date, connection_article_database)\n",
    "\n",
    "getStockData.getAndStoreMultipleStocksPricingData(STOCKS, connection_pricing_database)"
   ]
  },
  {
   "cell_type": "code",
   "execution_count": 8,
   "metadata": {},
   "outputs": [
    {
     "name": "stdout",
     "output_type": "stream",
     "text": [
      "Ticker   Pricing Rows    Pricing Min Date     Pricing Max Date     Article Rows    Article Min Date     Article Max Date    \n",
      "PTON     346             2019-09-26           2021-02-09           20              2021-01-13           2021-02-09          \n",
      "CGC      1724            2014-04-07           2021-02-09           20              2021-01-13           2021-02-10          \n"
     ]
    }
   ],
   "source": [
    "# Test to show the stock article and stock pricing database content\n",
    "sqlite_utils.fetchStockDataOverview(connection_pricing_database, connection_article_database, STOCKS)"
   ]
  },
  {
   "cell_type": "markdown",
   "metadata": {},
   "source": [
    "## Gathering the Historical Price Data for our Stocks\n",
    "Utilizing the Yahoo Financials API, we gather stock finance data per each company that we are interested in and store that data in a Stock Pricing Database. "
   ]
  },
  {
   "cell_type": "code",
   "execution_count": null,
   "metadata": {},
   "outputs": [],
   "source": [
    "getStockData.userSearchAndStoreStockPricingLoop(connection_pricing_database)"
   ]
  },
  {
   "cell_type": "markdown",
   "metadata": {},
   "source": [
    "### Pulling Stock Article and Sentiment Data from stockSentiment Database"
   ]
  },
  {
   "cell_type": "code",
   "execution_count": null,
   "metadata": {},
   "outputs": [],
   "source": [
    "dataFrame = pd.read_sql_query('SELECT * FROM stockArticles WHERE date >= \"2020-03-16\" AND date <= \"2020-11-14\" AND stockSymbol=\"AAPL\" ORDER BY date DESC', connection_article_database)\n",
    "\n",
    "dataFrame"
   ]
  },
  {
   "cell_type": "markdown",
   "metadata": {},
   "source": [
    "### Pulling Stock Price Data from stockPricing Database"
   ]
  },
  {
   "cell_type": "code",
   "execution_count": 7,
   "metadata": {},
   "outputs": [],
   "source": [
    "data = sqlite_utils._findAllStockPricingForStockSymbol(connection_pricing_database, \"WMT\")\n",
    "\n",
    "# Adding Title \n",
    "plt.title(\"Stock Prices\")\n",
    "  \n",
    "# Labeling the axes \n",
    "plt.xlabel(\"Date\") \n",
    "plt.ylabel(\"Closing Price in $\")\n",
    "     \n",
    "    \n",
    "xs = [x[0] for x in data]\n",
    "ys = [y[1] for y in data]\n",
    "\n",
    "#print(\"xs: \", xs)\n",
    "#print(\"ys: \", ys)\n",
    "#plt.autoscale(enable=True, axis='both', tight=None)\n",
    "\n",
    "if x\n",
    "# Function to plot  \n",
    "plt.plot(xs, ys)\n",
    "\n",
    "# function to show the plot  \n",
    "plt.show()"
   ]
  },
  {
   "cell_type": "markdown",
   "metadata": {},
   "source": [
    "# Perform sentiment analysis on the articles"
   ]
  }
 ],
 "metadata": {
  "kernelspec": {
   "display_name": "Python 3",
   "language": "python",
   "name": "python3"
  },
  "language_info": {
   "codemirror_mode": {
    "name": "ipython",
    "version": 3
   },
   "file_extension": ".py",
   "mimetype": "text/x-python",
   "name": "python",
   "nbconvert_exporter": "python",
   "pygments_lexer": "ipython3",
   "version": "3.7.9"
  }
 },
 "nbformat": 4,
 "nbformat_minor": 4
}
