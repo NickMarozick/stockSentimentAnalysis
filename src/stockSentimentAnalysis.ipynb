{
 "cells": [
  {
   "cell_type": "markdown",
   "metadata": {},
   "source": [
    "# Stock Sentiment Analysis Project"
   ]
  },
  {
   "cell_type": "markdown",
   "metadata": {},
   "source": [
    "## Gathering the Article Data for our Stocks\n",
    "Utilizing the News API service, we gather articles referencing the Stock Symbols that we are interested in. We take the JSON data returned, clean it, and store into our sqlite database for future reference."
   ]
  },
  {
   "cell_type": "code",
   "execution_count": null,
   "metadata": {},
   "outputs": [],
   "source": [
    "import sys\n",
    "from news_finders import content_scraper\n",
    "from news_finders import newsApi\n",
    "from utils import file_utils\n",
    "from utils import sqlite_utils\n",
    "from datetime import datetime, timedelta\n",
    "  \n",
    "\n",
    "STOCKS = [\"AAPL\", \"ABBV\", \"TXN\"]\n",
    "\n",
    "\n",
    "date= datetime.today() - timedelta(days=28)\n",
    "\n",
    "reformatedDate= str(date.month) + \"-\" + str(date.day) + \"-\" + str(date.year)\n",
    "\n",
    "\n",
    "articles = []\n",
    "articles = newsApi.getArticlesForMultipleStocks(STOCKS, reformatedDate)\n",
    "\n",
    "\n",
    "\n",
    "conn= sqlite_utils._createConnection(r\"/var/stockSA/stockSentiment.db\")\n",
    "\n",
    "if conn is None: \n",
    "    print(\"Failed to open database connection\")\n",
    "    sys.exit(1)\n",
    "\n",
    "sqlite_utils.insertStockArticles(conn, articles)\n",
    "print(sqlite_utils._findStockArticlesForSymbol(conn, \"AAPL\")[0])"
   ]
  },
  {
   "cell_type": "markdown",
   "metadata": {},
   "source": [
    "## Gathering the Historical Price Data for our Stocks\n",
    "Utilizing the Yahoo Financials API, we gather stock finance data per each company that we are interested in and store that data in a Stock Pricing Database. "
   ]
  },
  {
   "cell_type": "code",
   "execution_count": null,
   "metadata": {},
   "outputs": [
    {
     "name": "stdout",
     "output_type": "stream",
     "text": [
      "Enter a stock symbol or to quit program, type quit: AAPL\n",
      "Failed to create price data UNIQUE constraint failed: stockPricing.stockSymbol, stockPricing.date {'date': 1591709400, 'high': 86.40249633789062, 'low': 83.00250244140625, 'open': 83.03500366210938, 'close': 85.99749755859375, 'volume': 147712400, 'adjclose': 85.69487762451172, 'formatted_date': '2020-06-09'}\n",
      "Failed to create price data UNIQUE constraint failed: stockPricing.stockSymbol, stockPricing.date {'date': 1591795800, 'high': 88.69249725341797, 'low': 86.52249908447266, 'open': 86.9749984741211, 'close': 88.20999908447266, 'volume': 166651600, 'adjclose': 87.89958953857422, 'formatted_date': '2020-06-10'}\n",
      "Failed to create price data UNIQUE constraint failed: stockPricing.stockSymbol, stockPricing.date {'date': 1591882200, 'high': 87.76499938964844, 'low': 83.87000274658203, 'open': 87.32749938964844, 'close': 83.9749984741211, 'volume': 201662400, 'adjclose': 83.67949676513672, 'formatted_date': '2020-06-11'}\n",
      "Failed to create price data UNIQUE constraint failed: stockPricing.stockSymbol, stockPricing.date {'date': 1591968600, 'high': 86.94999694824219, 'low': 83.55500030517578, 'open': 86.18000030517578, 'close': 84.69999694824219, 'volume': 200146000, 'adjclose': 84.40194702148438, 'formatted_date': '2020-06-12'}\n",
      "Failed to create price data UNIQUE constraint failed: stockPricing.stockSymbol, stockPricing.date {'date': 1592227800, 'high': 86.41999816894531, 'low': 83.1449966430664, 'open': 83.3125, 'close': 85.74749755859375, 'volume': 138808800, 'adjclose': 85.44575500488281, 'formatted_date': '2020-06-15'}\n",
      "Failed to create price data UNIQUE constraint failed: stockPricing.stockSymbol, stockPricing.date {'date': 1592314200, 'high': 88.30000305175781, 'low': 86.18000030517578, 'open': 87.86499786376953, 'close': 88.0199966430664, 'volume': 165428800, 'adjclose': 87.71025848388672, 'formatted_date': '2020-06-16'}\n",
      "Failed to create price data UNIQUE constraint failed: stockPricing.stockSymbol, stockPricing.date {'date': 1592400600, 'high': 88.8499984741211, 'low': 87.77249908447266, 'open': 88.7874984741211, 'close': 87.89749908447266, 'volume': 114406400, 'adjclose': 87.58819580078125, 'formatted_date': '2020-06-17'}\n",
      "Failed to create price data UNIQUE constraint failed: stockPricing.stockSymbol, stockPricing.date {'date': 1592487000, 'high': 88.36250305175781, 'low': 87.30500030517578, 'open': 87.85250091552734, 'close': 87.93250274658203, 'volume': 96820400, 'adjclose': 87.62307739257812, 'formatted_date': '2020-06-18'}\n",
      "Failed to create price data UNIQUE constraint failed: stockPricing.stockSymbol, stockPricing.date {'date': 1592573400, 'high': 89.13999938964844, 'low': 86.2874984741211, 'open': 88.66000366210938, 'close': 87.43000030517578, 'volume': 264476000, 'adjclose': 87.1223373413086, 'formatted_date': '2020-06-19'}\n",
      "Failed to create price data UNIQUE constraint failed: stockPricing.stockSymbol, stockPricing.date {'date': 1592832600, 'high': 89.86499786376953, 'low': 87.7874984741211, 'open': 87.83499908447266, 'close': 89.71749877929688, 'volume': 135445200, 'adjclose': 89.40178680419922, 'formatted_date': '2020-06-22'}\n",
      "Failed to create price data UNIQUE constraint failed: stockPricing.stockSymbol, stockPricing.date {'date': 1592919000, 'high': 93.09500122070312, 'low': 90.56749725341797, 'open': 91.0, 'close': 91.63249969482422, 'volume': 212155600, 'adjclose': 91.31005096435547, 'formatted_date': '2020-06-23'}\n",
      "Failed to create price data UNIQUE constraint failed: stockPricing.stockSymbol, stockPricing.date {'date': 1593005400, 'high': 92.19750213623047, 'low': 89.62999725341797, 'open': 91.25, 'close': 90.01499938964844, 'volume': 192623200, 'adjclose': 89.6982421875, 'formatted_date': '2020-06-24'}\n",
      "Failed to create price data UNIQUE constraint failed: stockPricing.stockSymbol, stockPricing.date {'date': 1593091800, 'high': 91.25, 'low': 89.39250183105469, 'open': 90.17500305175781, 'close': 91.20999908447266, 'volume': 137522400, 'adjclose': 90.8890380859375, 'formatted_date': '2020-06-25'}\n",
      "Failed to create price data UNIQUE constraint failed: stockPricing.stockSymbol, stockPricing.date {'date': 1593178200, 'high': 91.33000183105469, 'low': 88.25499725341797, 'open': 91.10250091552734, 'close': 88.40750122070312, 'volume': 205256800, 'adjclose': 88.09640502929688, 'formatted_date': '2020-06-26'}\n",
      "Failed to create price data UNIQUE constraint failed: stockPricing.stockSymbol, stockPricing.date {'date': 1593437400, 'high': 90.5425033569336, 'low': 87.81999969482422, 'open': 88.3125, 'close': 90.44499969482422, 'volume': 130646000, 'adjclose': 90.1267318725586, 'formatted_date': '2020-06-29'}\n",
      "Failed to create price data UNIQUE constraint failed: stockPricing.stockSymbol, stockPricing.date {'date': 1593523800, 'high': 91.49500274658203, 'low': 90.0, 'open': 90.0199966430664, 'close': 91.19999694824219, 'volume': 140223200, 'adjclose': 90.87906646728516, 'formatted_date': '2020-06-30'}\n",
      "Failed to create price data UNIQUE constraint failed: stockPricing.stockSymbol, stockPricing.date {'date': 1593610200, 'high': 91.83999633789062, 'low': 90.97750091552734, 'open': 91.27999877929688, 'close': 91.02749633789062, 'volume': 110737200, 'adjclose': 90.7071762084961, 'formatted_date': '2020-07-01'}\n",
      "Failed to create price data UNIQUE constraint failed: stockPricing.stockSymbol, stockPricing.date {'date': 1593696600, 'high': 92.61750030517578, 'low': 90.91000366210938, 'open': 91.9625015258789, 'close': 91.02749633789062, 'volume': 114041600, 'adjclose': 90.7071762084961, 'formatted_date': '2020-07-02'}\n",
      "Failed to create price data UNIQUE constraint failed: stockPricing.stockSymbol, stockPricing.date {'date': 1594042200, 'high': 93.94499969482422, 'low': 92.46749877929688, 'open': 92.5, 'close': 93.4625015258789, 'volume': 118655600, 'adjclose': 93.13361358642578, 'formatted_date': '2020-07-06'}\n",
      "Failed to create price data UNIQUE constraint failed: stockPricing.stockSymbol, stockPricing.date {'date': 1594128600, 'high': 94.65499877929688, 'low': 93.05750274658203, 'open': 93.85250091552734, 'close': 93.17250061035156, 'volume': 112424400, 'adjclose': 92.84463500976562, 'formatted_date': '2020-07-07'}\n",
      "[{'date': 1591709400, 'high': 86.40249633789062, 'low': 83.00250244140625, 'open': 83.03500366210938, 'close': 85.99749755859375, 'volume': 147712400, 'adjclose': 85.69487762451172, 'formatted_date': '2020-06-09'}, {'date': 1591795800, 'high': 88.69249725341797, 'low': 86.52249908447266, 'open': 86.9749984741211, 'close': 88.20999908447266, 'volume': 166651600, 'adjclose': 87.89958953857422, 'formatted_date': '2020-06-10'}, {'date': 1591882200, 'high': 87.76499938964844, 'low': 83.87000274658203, 'open': 87.32749938964844, 'close': 83.9749984741211, 'volume': 201662400, 'adjclose': 83.67949676513672, 'formatted_date': '2020-06-11'}, {'date': 1591968600, 'high': 86.94999694824219, 'low': 83.55500030517578, 'open': 86.18000030517578, 'close': 84.69999694824219, 'volume': 200146000, 'adjclose': 84.40194702148438, 'formatted_date': '2020-06-12'}, {'date': 1592227800, 'high': 86.41999816894531, 'low': 83.1449966430664, 'open': 83.3125, 'close': 85.74749755859375, 'volume': 138808800, 'adjclose': 85.44575500488281, 'formatted_date': '2020-06-15'}, {'date': 1592314200, 'high': 88.30000305175781, 'low': 86.18000030517578, 'open': 87.86499786376953, 'close': 88.0199966430664, 'volume': 165428800, 'adjclose': 87.71025848388672, 'formatted_date': '2020-06-16'}, {'date': 1592400600, 'high': 88.8499984741211, 'low': 87.77249908447266, 'open': 88.7874984741211, 'close': 87.89749908447266, 'volume': 114406400, 'adjclose': 87.58819580078125, 'formatted_date': '2020-06-17'}, {'date': 1592487000, 'high': 88.36250305175781, 'low': 87.30500030517578, 'open': 87.85250091552734, 'close': 87.93250274658203, 'volume': 96820400, 'adjclose': 87.62307739257812, 'formatted_date': '2020-06-18'}, {'date': 1592573400, 'high': 89.13999938964844, 'low': 86.2874984741211, 'open': 88.66000366210938, 'close': 87.43000030517578, 'volume': 264476000, 'adjclose': 87.1223373413086, 'formatted_date': '2020-06-19'}, {'date': 1592832600, 'high': 89.86499786376953, 'low': 87.7874984741211, 'open': 87.83499908447266, 'close': 89.71749877929688, 'volume': 135445200, 'adjclose': 89.40178680419922, 'formatted_date': '2020-06-22'}, {'date': 1592919000, 'high': 93.09500122070312, 'low': 90.56749725341797, 'open': 91.0, 'close': 91.63249969482422, 'volume': 212155600, 'adjclose': 91.31005096435547, 'formatted_date': '2020-06-23'}, {'date': 1593005400, 'high': 92.19750213623047, 'low': 89.62999725341797, 'open': 91.25, 'close': 90.01499938964844, 'volume': 192623200, 'adjclose': 89.6982421875, 'formatted_date': '2020-06-24'}, {'date': 1593091800, 'high': 91.25, 'low': 89.39250183105469, 'open': 90.17500305175781, 'close': 91.20999908447266, 'volume': 137522400, 'adjclose': 90.8890380859375, 'formatted_date': '2020-06-25'}, {'date': 1593178200, 'high': 91.33000183105469, 'low': 88.25499725341797, 'open': 91.10250091552734, 'close': 88.40750122070312, 'volume': 205256800, 'adjclose': 88.09640502929688, 'formatted_date': '2020-06-26'}, {'date': 1593437400, 'high': 90.5425033569336, 'low': 87.81999969482422, 'open': 88.3125, 'close': 90.44499969482422, 'volume': 130646000, 'adjclose': 90.1267318725586, 'formatted_date': '2020-06-29'}, {'date': 1593523800, 'high': 91.49500274658203, 'low': 90.0, 'open': 90.0199966430664, 'close': 91.19999694824219, 'volume': 140223200, 'adjclose': 90.87906646728516, 'formatted_date': '2020-06-30'}, {'date': 1593610200, 'high': 91.83999633789062, 'low': 90.97750091552734, 'open': 91.27999877929688, 'close': 91.02749633789062, 'volume': 110737200, 'adjclose': 90.7071762084961, 'formatted_date': '2020-07-01'}, {'date': 1593696600, 'high': 92.61750030517578, 'low': 90.91000366210938, 'open': 91.9625015258789, 'close': 91.02749633789062, 'volume': 114041600, 'adjclose': 90.7071762084961, 'formatted_date': '2020-07-02'}, {'date': 1594042200, 'high': 93.94499969482422, 'low': 92.46749877929688, 'open': 92.5, 'close': 93.4625015258789, 'volume': 118655600, 'adjclose': 93.13361358642578, 'formatted_date': '2020-07-06'}, {'date': 1594128600, 'high': 94.65499877929688, 'low': 93.05750274658203, 'open': 93.85250091552734, 'close': 93.17250061035156, 'volume': 112424400, 'adjclose': 92.84463500976562, 'formatted_date': '2020-07-07'}]\n"
     ]
    },
    {
     "name": "stdout",
     "output_type": "stream",
     "text": [
      "Enter a stock symbol or to quit program, type quit: quit\n",
      "Invalid StockSymbol, no data  'quit'\n"
     ]
    }
   ],
   "source": [
    "import sys\n",
    "from yahoofinancials import YahooFinancials\n",
    "from utils import file_utils\n",
    "from utils import sqlite_utils\n",
    "from datetime import datetime, timedelta\n",
    "\n",
    "\n",
    "# connecting to the database\n",
    "conn = sqlite_utils._createConnection(r\"/var/stockSA/stockPricing.db\")\n",
    "if conn is None:\n",
    "    print(\"Failed to open database connection\")\n",
    "    sys.exit(1)\n",
    "sqlite_utils._createStockPricingTable(conn)\n",
    "\n",
    "while True :\n",
    "    ticker = input('Enter a stock symbol or to quit program, type quit: ')\n",
    "    if ticker == 'quit' :\n",
    "        quit()\n",
    "\n",
    "    try: \n",
    "        yahoo_financials = YahooFinancials(ticker) \n",
    "        # call to the YahooFinance tool function\n",
    "        historicalStockPrices = yahoo_financials.get_historical_price_data(\n",
    "                \"2020-06-09\", \"2020-07-08\", \"daily\")\n",
    "        \n",
    "        # creating our variable prices, storing all of the data in a list\n",
    "        if historicalStockPrices[ticker] is None:\n",
    "            print('Failed to get stock prices')\n",
    "            continue\n",
    "        \n",
    "        prices = historicalStockPrices[ticker]['prices']\n",
    "        sqlite_utils.insertPrices(conn, ticker, prices)\t\n",
    "\n",
    "    except Exception as e: \n",
    "    \tprint(\"Invalid StockSymbol, no data \", e)\n",
    "    \tcontinue\n",
    "    \n",
    "    print(prices)"
   ]
  },
  {
   "cell_type": "code",
   "execution_count": null,
   "metadata": {},
   "outputs": [],
   "source": []
  }
 ],
 "metadata": {
  "kernelspec": {
   "display_name": "Python 3",
   "language": "python",
   "name": "python3"
  },
  "language_info": {
   "codemirror_mode": {
    "name": "ipython",
    "version": 3
   },
   "file_extension": ".py",
   "mimetype": "text/x-python",
   "name": "python",
   "nbconvert_exporter": "python",
   "pygments_lexer": "ipython3",
   "version": "3.7.3"
  }
 },
 "nbformat": 4,
 "nbformat_minor": 4
}
