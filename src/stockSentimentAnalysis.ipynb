{
 "cells": [
  {
   "cell_type": "markdown",
   "metadata": {},
   "source": [
    "# Stock Sentiment Analysis Project"
   ]
  },
  {
   "cell_type": "markdown",
   "metadata": {},
   "source": [
    "What's the goal of the project?\n",
    "How do we plan to achieve the goal?\n",
    "What are some technologies used?"
   ]
  },
  {
   "cell_type": "markdown",
   "metadata": {},
   "source": [
    "# Setup"
   ]
  },
  {
   "cell_type": "code",
   "execution_count": 1,
   "metadata": {},
   "outputs": [],
   "source": [
    "# import dependencies (for all of the notebook and remove from elsewhere)\n",
    "import sys\n",
    "import pandas as pd\n",
    "from news_finders import content_scraper\n",
    "from news_finders import newsApi\n",
    "from yahoofinancials import YahooFinancials\n",
    "from utils import helper_functions\n",
    "from utils import sqlite_utils\n",
    "from datetime import datetime, timedelta\n",
    "from stock_historical_data import getStockData\n",
    "from matplotlib import pyplot as plt \n",
    "\n",
    "\n",
    "connection_article_database = sqlite_utils.setUpArticleDatabase()\n",
    "\n",
    "connection_pricing_database = sqlite_utils.setUpPricingDatabase()"
   ]
  },
  {
   "cell_type": "markdown",
   "metadata": {},
   "source": [
    "## Gathering the Article Data for our Stocks\n",
    "Utilizing the News API service, we gather articles referencing the Stock Symbols that we are interested in. We t ake the JSON data returned, clean it, and store into our sqlite database for future reference."
   ]
  },
  {
   "cell_type": "code",
   "execution_count": null,
   "metadata": {},
   "outputs": [],
   "source": [
    "STOCKS = [\"WMT\", \"AMZN\", \"MRNA\"]\n",
    "\n",
    "get_articles_from_this_date = helper_functions.getMaxDateForStockArticles()\n",
    "\n",
    "articles = []\n",
    "\n",
    "articles = newsApi.getArticlesForMultipleStocks(STOCKS, get_articles_from_this_date)\n",
    "\n",
    "sqlite_utils.insertStockArticles(connection_article_database, articles)\n",
    "\n",
    "print(articles)"
   ]
  },
  {
   "cell_type": "code",
   "execution_count": null,
   "metadata": {},
   "outputs": [],
   "source": [
    "# Test to make sure that articles have been stored in the database\n",
    "print(sqlite_utils._findStockArticlesForSymbol(connection_article_database, \"WMT\")[0])"
   ]
  },
  {
   "cell_type": "markdown",
   "metadata": {},
   "source": [
    "## Gathering the Historical Price Data for our Stocks\n",
    "Utilizing the Yahoo Financials API, we gather stock finance data per each company that we are interested in and store that data in a Stock Pricing Database. "
   ]
  },
  {
   "cell_type": "code",
   "execution_count": null,
   "metadata": {},
   "outputs": [],
   "source": [
    "getStockData.userSearchAndStoreStockPricingLoop(connection_pricing_database)"
   ]
  },
  {
   "cell_type": "markdown",
   "metadata": {},
   "source": [
    "### Pulling Data from stockSentiment database"
   ]
  },
  {
   "cell_type": "code",
   "execution_count": null,
   "metadata": {},
   "outputs": [],
   "source": [
    "dataFrame = pd.read_sql_query('SELECT * FROM stockArticles WHERE date >= \"2020-03-16\" AND date <= \"2020-11-14\" AND stockSymbol=\"AAPL\" ORDER BY date DESC', connection_article_database)\n",
    "\n",
    "dataFrame"
   ]
  },
  {
   "cell_type": "markdown",
   "metadata": {},
   "source": [
    "### Pulling Stock Price Data from Database"
   ]
  },
  {
   "cell_type": "code",
   "execution_count": null,
   "metadata": {
    "scrolled": false
   },
   "outputs": [],
   "source": [
    "\n",
    "\n",
    "data = sqlite_utils._findAllStockPricingForStockSymbol(conn, \"AAPL\")\n",
    "\n",
    "print(data)\n",
    "\n",
    "# Adding Title \n",
    "plt.title(\"Stock Prices\")\n",
    "  \n",
    "# Labeling the axes \n",
    "plt.xlabel(\"Date\") \n",
    "plt.ylabel(\"Closing Price in $\")\n",
    "     \n",
    "\n",
    "    \n",
    "xs = [x[0] for x in data]\n",
    "ys = [y[1] for y in data]\n",
    "\n",
    "\n",
    "#plt.autoscale(enable=True, axis='both', tight=None)\n",
    "\n",
    "\n",
    "# Function to plot  \n",
    "plt.plot(xs, ys)\n",
    "\n",
    "\n",
    "# function to show the plot  \n",
    "plt.show() "
   ]
  },
  {
   "cell_type": "markdown",
   "metadata": {},
   "source": [
    "# Perform sentiment analysis on the articles"
   ]
  }
 ],
 "metadata": {
  "kernelspec": {
   "display_name": "Python 3",
   "language": "python",
   "name": "python3"
  },
  "language_info": {
   "codemirror_mode": {
    "name": "ipython",
    "version": 3
   },
   "file_extension": ".py",
   "mimetype": "text/x-python",
   "name": "python",
   "nbconvert_exporter": "python",
   "pygments_lexer": "ipython3",
   "version": "3.7.9"
  }
 },
 "nbformat": 4,
 "nbformat_minor": 4
}
